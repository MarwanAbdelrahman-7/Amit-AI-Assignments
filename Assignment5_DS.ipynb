{
 "cells": [
  {
   "cell_type": "code",
   "execution_count": null,
   "id": "ae1273ed",
   "metadata": {},
   "outputs": [],
   "source": [
    "import numpy as np\n",
    "import pandas as pd \n",
    "import matplotlib.pyplot as plt\n",
    "import seaborn as sns \n",
    "import plotly.express as px "
   ]
  },
  {
   "cell_type": "markdown",
   "id": "cb4ce265",
   "metadata": {},
   "source": [
    "#### 1. Write a Python program to draw a line with suitable label in the x axis, y axis and a title."
   ]
  },
  {
   "cell_type": "code",
   "execution_count": null,
   "id": "8d300bad",
   "metadata": {},
   "outputs": [],
   "source": [
    "\n",
    "# Data for the line plot\n",
    "x = [0, 1, 2, 3, 4, 5]\n",
    "y = [0, 1, 4, 9, 16, 25]\n",
    "\n",
    "# Create the plot\n",
    "plt.plot(x, y, label=\"y = x^2\")\n",
    "\n",
    "# Add labels and title\n",
    "plt.xlabel(\"X Axis\")\n",
    "plt.ylabel(\"Y Axis\")\n",
    "plt.title(\"Simple Line Plot\")\n",
    "\n",
    "# Show the legend\n",
    "plt.legend()\n",
    "\n",
    "# Display the plot\n",
    "plt.show()\n",
    "\n"
   ]
  },
  {
   "cell_type": "markdown",
   "id": "ab1d91b7",
   "metadata": {},
   "source": [
    "<div style=\"font-size: 50px;\n",
    " color: white;\n",
    "background-color: grey;\n",
    " padding: 70px;\n",
    "margin: 4px\">\n",
    "       .............. <br>\n",
    "\n",
    "</div>"
   ]
  },
  {
   "cell_type": "markdown",
   "id": "56aacb53",
   "metadata": {},
   "source": [
    "#### 2. Write a Python program to plot two or more lines on same plot with suitable legends of each line.\n"
   ]
  },
  {
   "cell_type": "code",
   "execution_count": null,
   "id": "e70de499",
   "metadata": {},
   "outputs": [],
   "source": [
    "\n",
    "# Define data for line 1\n",
    "x1 = [10, 20, 30]\n",
    "y1 = [20, 40, 10]\n",
    "\n",
    "# Define data for line 2\n",
    "x2 = [10, 20, 30]\n",
    "y2 = [40, 10, 30]\n",
    "\n",
    "# Plot the lines\n",
    "plt.plot(x1, y1,label='line 1', linestyle='-', color='b')\n",
    "plt.plot(x2,y2,label='line 2',linestyle='-',color='g')\n",
    "\n",
    "plt.xlabel(\"X Axis\")\n",
    "plt.xlabel(\"y Axis\")\n",
    "\n",
    "plt.legend()\n",
    "# Show the plot\n",
    "plt.show()"
   ]
  },
  {
   "cell_type": "markdown",
   "id": "cb1b4807",
   "metadata": {},
   "source": [
    "<div style=\"font-size: 50px;\n",
    " color: white;\n",
    "background-color: grey;\n",
    " padding: 70px;\n",
    "margin: 4px\">\n",
    ".............. <br>\n",
    "\n",
    "</div>"
   ]
  },
  {
   "cell_type": "markdown",
   "id": "c5f271c5",
   "metadata": {},
   "source": [
    "#### 3. Write a Python program to plot two or more lines with legends, different widths and colors.\n"
   ]
  },
  {
   "cell_type": "code",
   "execution_count": null,
   "id": "6967edbe",
   "metadata": {},
   "outputs": [],
   "source": [
    "# Define data for line 1\n",
    "from matplotlib import pyplot as plt\n",
    "\n",
    "x=[10,15,20,25,30]\n",
    "\n",
    "x1 = [10, 20, 30]\n",
    "y1 = [20, 40, 10]\n",
    "\n",
    "# Define data for line 2\n",
    "x2 = [10, 20, 30]\n",
    "y2 = [40, 10, 30]\n",
    "\n",
    "plt.plot(x1, y1, linestyle='-', color='b',label=\"line 1\") # marker='o'\n",
    "plt.plot(x2,y2,linestyle='-',color='r',linewidth=5,label=\"line 2\") # marker='o'\n",
    "\n",
    "plt.legend()\n",
    "\n",
    "plt.title(\"graph title\")\n",
    "\n",
    "plt.xlabel(\"x Axis\")\n",
    "plt.ylabel(\"y Axis\")\n",
    "\n",
    "# Set ticks only at the data points in x1 for the x-axis\n",
    "plt.xticks(x)\n",
    "\n",
    "plt.show()\n"
   ]
  },
  {
   "cell_type": "markdown",
   "id": "584af4a3",
   "metadata": {},
   "source": [
    "<div style=\"font-size: 50px;\n",
    " color: white;\n",
    "background-color: grey;\n",
    " padding: 40px;\n",
    "margin: 4px\">\n",
    "       .............. <br>\n",
    "\n",
    "</div>"
   ]
  },
  {
   "cell_type": "markdown",
   "id": "aba33aeb",
   "metadata": {},
   "source": [
    "#### 4. Write a Python program to plot two or more lines with different styles.\n"
   ]
  },
  {
   "cell_type": "code",
   "execution_count": null,
   "id": "91880276",
   "metadata": {},
   "outputs": [],
   "source": [
    "x=[10,15,20,25,30]\n",
    "\n",
    "\n",
    "# Define data for line 1\n",
    "x1 = [10, 20, 30]\n",
    "y1 = [20, 40, 10]\n",
    "\n",
    "# Define data for line 2\n",
    "x2 = [10, 20, 30]\n",
    "y2 = [40, 10, 30]\n",
    "\n",
    "plt.plot(x1,y1,linestyle = 'dotted',color=\"b\",label=\"line 1\")\n",
    "plt.plot(x2,y2,linestyle = 'dotted',linewidth=5,color=\"r\",label=\"line 2\")\n",
    "\n",
    "plt.legend()\n",
    "plt.title(\"graph title\")\n",
    "\n",
    "plt.xticks(x)\n",
    "\n"
   ]
  },
  {
   "cell_type": "markdown",
   "id": "dd15be5a",
   "metadata": {},
   "source": [
    "<div style=\"font-size: 50px;\n",
    " color: white;\n",
    "background-color: grey;\n",
    " padding: 40px;\n",
    "margin: 4px\">\n",
    "       .............. <br>\n",
    "\n",
    "</div>"
   ]
  },
  {
   "cell_type": "markdown",
   "id": "9f8b76de",
   "metadata": {},
   "source": [
    "#### 5. Write a Python program to plot two or more lines and set the line markers.\n"
   ]
  },
  {
   "cell_type": "code",
   "execution_count": null,
   "id": "ed66f81f",
   "metadata": {},
   "outputs": [],
   "source": [
    "x1=[1,2,3,4,5]\n",
    "y1=[1,4,9,16,25]\n",
    "\n",
    "\n",
    "\n",
    "plt.plot(x1, y1, marker='o', mfc='b',ms='10', color=\"r\",linestyle=\"-.\")  # 'o' marker for points\n"
   ]
  },
  {
   "cell_type": "markdown",
   "id": "513efc9f",
   "metadata": {},
   "source": [
    "<div style=\"font-size: 50px;\n",
    " color: white;\n",
    "background-color: grey;\n",
    " padding: 40px;\n",
    "margin: 4px\">\n",
    "       .............. <br>\n",
    "\n",
    "</div>"
   ]
  },
  {
   "attachments": {},
   "cell_type": "markdown",
   "id": "b88e93a7",
   "metadata": {},
   "source": [
    "#### 6. Write a Python programming to display a bar chart of the popularity of programming Languages.\n",
    "    Sample data:\n",
    "    Programming languages: Java, Python, PHP, JavaScript, C#, C++\n",
    "    Popularity: 22.2, 17.6, 8.8, 8, 7.7, 6.7\n",
    "\n"
   ]
  },
  {
   "cell_type": "code",
   "execution_count": null,
   "id": "1575db4b",
   "metadata": {},
   "outputs": [],
   "source": [
    "import matplotlib.pyplot as plt\n",
    "\n",
    "languages = [\"Java\", \"Python\", \"PHP\", \"JavaScript\", \"C#\", \"C++\"]\n",
    "popularity = [22.2, 17.6, 8.8, 8, 7.7, 6.7]\n",
    "\n",
    "# Plotting the bar chart\n",
    "plt.bar(languages, popularity)\n",
    "\n",
    "# Adding title and labels\n",
    "plt.title(\"Programming Language Popularity\")\n",
    "plt.xlabel(\"Programming Languages\")\n",
    "plt.ylabel(\"Popularity (%)\")\n",
    "\n",
    "\n",
    "# Display the plot\n",
    "plt.show()\n"
   ]
  },
  {
   "cell_type": "markdown",
   "id": "f53d1a69",
   "metadata": {},
   "source": [
    "<div style=\"font-size: 50px;\n",
    " color: white;\n",
    "background-color: grey;\n",
    " padding: 40px;\n",
    "margin: 4px\">\n",
    "       .............. <br>\n",
    "\n",
    "</div>"
   ]
  },
  {
   "attachments": {},
   "cell_type": "markdown",
   "id": "07da990d",
   "metadata": {},
   "source": [
    "#### 7. Write a Python programming to display a horizontal bar chart of the popularity of programming Languages.\n",
    "    Sample data:\n",
    "    Programming languages: Java, Python, PHP, JavaScript, C#, C++\n",
    "    Popularity: 22.2, 17.6, 8.8, 8, 7.7, 6.7\n",
    "  \n",
    "![image.png](attachment:image.png)"
   ]
  },
  {
   "cell_type": "code",
   "execution_count": null,
   "id": "5c343301",
   "metadata": {},
   "outputs": [],
   "source": [
    "languages=[\"Java\", \"Python\", \"PHP\", \"JavaScript\", \"C#\", \"C++\"]\n",
    "Popularity=[ 22.2, 17.6, 8.8, 8, 7.7, 6.7]\n",
    "\n",
    "\n",
    "plt.title(\"bar title\")\n",
    "\n",
    "plt.ylabel(\"Programming Languages\")\n",
    "\n",
    "plt.xlabel(\"Popularity (%)\")\n",
    "\n",
    "plt.barh(languages,Popularity)\n",
    "\n"
   ]
  },
  {
   "cell_type": "markdown",
   "id": "323820c6",
   "metadata": {},
   "source": [
    "<div style=\"font-size: 50px;\n",
    " color: white;\n",
    "background-color: grey;\n",
    " padding: 40px;\n",
    "margin: 4px\">\n",
    "       .............. <br>\n",
    "\n",
    "</div>"
   ]
  },
  {
   "attachments": {},
   "cell_type": "markdown",
   "id": "e85da420",
   "metadata": {},
   "source": [
    "#### 8. Write a Python program to create bar plot of scores by group and gender. Use multiple X values on the same chart for men and women.\n",
    "    Sample Data:\n",
    "    Means (men) = (22, 30, 35, 35, 26)\n",
    "    Means (women) = (25, 32, 30, 35, 29)\n",
    "![image.png](attachment:image.png)"
   ]
  },
  {
   "cell_type": "code",
   "execution_count": null,
   "id": "0d5c3599",
   "metadata": {},
   "outputs": [],
   "source": [
    "# Sample data\n",
    "means_men = [22, 30, 35, 35, 26]\n",
    "means_women = [25, 32, 30, 35, 29]\n",
    "groups = ['Group1', 'Group2', 'Group3', 'Group4', 'Group5']\n",
    "w = 0.4  # Width of the bars\n",
    "\n",
    "plt.style.use(\"classic\")\n",
    "\n",
    "# Positions of the bars on the x-axis\n",
    "indices = np.arange(len(means_men))\n",
    "# it is better to use np.arange because it make a list whic is  it more consistent, especially when performing element-wise operations\n",
    "#ex:\n",
    "#[[indices + w]] i can't do this directly without np.arrange i should first convert it to a list first \n",
    "\n",
    "plt.bar(indices, means_men, width=w, color=\"blue\", label=\"Men\")\n",
    "\n",
    "plt.bar(indices + w, means_women, width=w, color=\"orange\", label=\"Women\")\n",
    "\n",
    "plt.title('Scores by Group and Gender', fontsize=24)\n",
    "plt.xlabel('Groups', fontsize=20)\n",
    "plt.ylabel('Scores', fontsize=20)\n",
    "plt.xticks(indices + w / 2, groups)  # [[indices + w / 2]] --> Set the x-ticks to be in the center of the bars\n",
    "           #positions ---> #label\n",
    "\n",
    "plt.legend(loc=\"upper left\")\n",
    "\n",
    "plt.show()\n"
   ]
  },
  {
   "cell_type": "code",
   "execution_count": null,
   "id": "ef041383",
   "metadata": {},
   "outputs": [],
   "source": [
    "print(plt.style.available)\n"
   ]
  },
  {
   "cell_type": "markdown",
   "id": "35dffee2",
   "metadata": {},
   "source": [
    "<div style=\"font-size: 50px;\n",
    " color: white;\n",
    "background-color: grey;\n",
    " padding: 40px;\n",
    "margin: 4px\">\n",
    "       .............. <br>\n",
    "\n",
    "</div>"
   ]
  },
  {
   "cell_type": "markdown",
   "id": "ed476a32",
   "metadata": {},
   "source": [
    "#### 9. Write a Python programming to create a pie chart of the popularity of programming Languages.\n",
    "\n"
   ]
  },
  {
   "cell_type": "code",
   "execution_count": null,
   "id": "9320ac19",
   "metadata": {},
   "outputs": [],
   "source": [
    "import matplotlib.pyplot as plt\n",
    "\n",
    "# Data to plot\n",
    "labels = 'Java', 'Python', 'PHP', 'JavaScript', 'C#', 'C++'\n",
    "percentage = [31.3, 24.8, 12.4, 11.3, 10.8, 9.4]\n",
    "colors = ['blue', 'orange', 'green', 'red', 'purple', 'brown']\n",
    "explode = (0.1, 0, 0, 0, 0, 0)  # explode 1st slice\n",
    "\n",
    "# Plot\n",
    "plt.pie(percentage, explode=explode, labels=labels, colors=colors,\n",
    "autopct='%1.1f%%', shadow=True, startangle=140)\n",
    "\n",
    "#autopct='%1.1f%%' --> to tell him how to show the percentage (1--> means .1-->means f -->float)\n",
    "\n",
    "\n",
    "plt.axis('equal')  # Equal aspect ratio ensures that pie is drawn as a circle.\n",
    "plt.show()\n",
    "\n",
    "\n"
   ]
  },
  {
   "cell_type": "markdown",
   "id": "66d37f89",
   "metadata": {},
   "source": [
    "<div style=\"font-size: 50px;\n",
    " color: white;\n",
    "background-color: rgb(125, 131, 71);\n",
    " padding: 40px;\n",
    "margin: 4px\">\n",
    "<br>\n",
    "<br>\n",
    "    \n",
    "    extra\n",
    "\n",
    "</div>"
   ]
  },
  {
   "cell_type": "code",
   "execution_count": null,
   "id": "9844e849",
   "metadata": {},
   "outputs": [],
   "source": [
    "df = pd.DataFrame.from_dict(\n",
    "    {\n",
    "        'Year': [2016, 2017, 2018, 2019, 2020, 2021],\n",
    "        'Men': [300, 320, 310, 305, 325, 330],\n",
    "        'Women': [350, 325, 300, 305, 380, 355],\n",
    "        'Total': [650,645, 610, 610, 705, 685]\n",
    "    }\n",
    ")\n",
    "\n",
    "'''mycolors=['grey',\"grey\",\"grey\",\"grey\",'red','grey']'''\n",
    "#or \n",
    "mycolors=['red' if (i == max(df['Total'])) else 'grey' for i in df['Total']]\n",
    "# it means\n",
    "\"\"\"\n",
    "mycolors = []\n",
    "for i in df['Total']:\n",
    "    if i == max(df['Total']):\n",
    "        mycolors.append('red')\n",
    "    else:\n",
    "        mycolors.append('grey')\n",
    "\"\"\"\n",
    "\n",
    "plt.bar(x=df['Year'], height=df['Total'],color=mycolors ,width = 0.3) # width = 0.5\n",
    "\n",
    "plt.title(\"bar title\",fontsize=20)\n",
    "\n",
    "plt.ylabel(\"SALES\")\n",
    "\n",
    "plt.xlabel(\"YEARS\")\n",
    "\n",
    "\n",
    "plt.show()"
   ]
  },
  {
   "cell_type": "code",
   "execution_count": null,
   "id": "14477f04",
   "metadata": {},
   "outputs": [],
   "source": [
    "w=0.4\n",
    "\n",
    "plt.style.use(\"ggplot\")\n",
    "\n",
    "# write men & women proportion\n",
    "df['Men Proportion'] = df['Men'] / df['Total'] * 100\n",
    "df['Women Proportion'] = df['Women'] / df['Total'] * 100\n",
    "\n",
    "plt.bar(x=df['Year'],height=df['Men Proportion'],width=w, color=\"blue\",label=\"Men\")\n",
    "plt.bar(x=df[\"Year\"]+w,height=df['Women Proportion'],width=w, color=\"orange\",label=\"Women\")\n",
    "\n",
    "\n",
    "\n",
    "plt.title('Sales over time', fontsize=18)\n",
    "plt.xlabel('Year', fontsize=12)\n",
    "plt.ylabel('Sales', fontsize=12)\n",
    "\n",
    "plt.legend(loc=\"upper center\")"
   ]
  },
  {
   "cell_type": "code",
   "execution_count": null,
   "id": "e7eac706",
   "metadata": {},
   "outputs": [],
   "source": []
  }
 ],
 "metadata": {
  "kernelspec": {
   "display_name": "Python 3 (ipykernel)",
   "language": "python",
   "name": "python3"
  },
  "language_info": {
   "codemirror_mode": {
    "name": "ipython",
    "version": 3
   },
   "file_extension": ".py",
   "mimetype": "text/x-python",
   "name": "python",
   "nbconvert_exporter": "python",
   "pygments_lexer": "ipython3",
   "version": "3.12.3"
  }
 },
 "nbformat": 4,
 "nbformat_minor": 5
}
