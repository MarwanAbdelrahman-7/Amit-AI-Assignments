{
 "cells": [
  {
   "cell_type": "code",
   "execution_count": null,
   "id": "ae1273ed",
   "metadata": {},
   "outputs": [],
   "source": [
    "import numpy as np\n",
    "import pandas as pd \n",
    "import matplotlib.pyplot as plt\n",
    "import seaborn as sns \n",
    "import plotly.express as px "
   ]
  },
  {
   "cell_type": "markdown",
   "id": "cb4ce265",
   "metadata": {},
   "source": [
    "#### 1. Write a Python program to draw a line with suitable label in the x axis, y axis and a title."
   ]
  },
  {
   "cell_type": "code",
   "execution_count": null,
   "id": "8d300bad",
   "metadata": {},
   "outputs": [],
   "source": [
    "\n",
    "# Data for the line plot\n",
    "x = [0, 1, 2, 3, 4, 5]\n",
    "y = [0, 1, 4, 9, 16, 25]\n",
    "\n",
    "# Create the plot\n",
    "plt.plot(x, y, label=\"y = x^2\")\n",
    "\n",
    "# Add labels and title\n",
    "plt.xlabel(\"X Axis\")\n",
    "plt.ylabel(\"Y Axis\")\n",
    "plt.title(\"Simple Line Plot\")\n",
    "\n",
    "# Show the legend\n",
    "plt.legend()\n",
    "\n",
    "# Display the plot\n",
    "plt.show()\n",
    "\n"
   ]
  },
  {
   "cell_type": "markdown",
   "id": "ab1d91b7",
   "metadata": {},
   "source": [
    "<div style=\"font-size: 50px;\n",
    " color: white;\n",
    "background-color: grey;\n",
    " padding: 70px;\n",
    "margin: 4px\">\n",
    "       .............. <br>\n",
    "\n",
    "</div>"
   ]
  },
  {
   "cell_type": "markdown",
   "id": "56aacb53",
   "metadata": {},
   "source": [
    "#### 2. Write a Python program to plot two or more lines on same plot with suitable legends of each line.\n"
   ]
  },
  {
   "cell_type": "code",
   "execution_count": null,
   "id": "e70de499",
   "metadata": {},
   "outputs": [],
   "source": [
    "\n",
    "# Define data for line 1\n",
    "x1 = [10, 20, 30]\n",
    "y1 = [20, 40, 10]\n",
    "\n",
    "# Define data for line 2\n",
    "x2 = [10, 20, 30]\n",
    "y2 = [40, 10, 30]\n",
    "\n",
    "# Plot the lines\n",
    "plt.plot(x1, y1,label='line 1', linestyle='-', color='b')\n",
    "plt.plot(x2,y2,label='line 2',linestyle='-',color='g')\n",
    "\n",
    "plt.xlabel(\"X Axis\")\n",
    "plt.xlabel(\"y Axis\")\n",
    "\n",
    "plt.legend()\n",
    "# Show the plot\n",
    "plt.show()"
   ]
  },
  {
   "cell_type": "markdown",
   "id": "cb1b4807",
   "metadata": {},
   "source": [
    "<div style=\"font-size: 50px;\n",
    " color: white;\n",
    "background-color: grey;\n",
    " padding: 70px;\n",
    "margin: 4px\">\n",
    ".............. <br>\n",
    "\n",
    "</div>"
   ]
  },
  {
   "cell_type": "markdown",
   "id": "c5f271c5",
   "metadata": {},
   "source": [
    "#### 3. Write a Python program to plot two or more lines with legends, different widths and colors.\n"
   ]
  },
  {
   "cell_type": "code",
   "execution_count": null,
   "id": "6967edbe",
   "metadata": {},
   "outputs": [],
   "source": [
    "# Define data for line 1\n",
    "from matplotlib import pyplot as plt\n",
    "\n",
    "x=[10,15,20,25,30]\n",
    "\n",
    "x1 = [10, 20, 30]\n",
    "y1 = [20, 40, 10]\n",
    "\n",
    "# Define data for line 2\n",
    "x2 = [10, 20, 30]\n",
    "y2 = [40, 10, 30]\n",
    "\n",
    "plt.plot(x1, y1, linestyle='-', color='b',label=\"line 1\") # marker='o'\n",
    "plt.plot(x2,y2,linestyle='-',color='r',linewidth=5,label=\"line 2\") # marker='o'\n",
    "\n",
    "plt.legend()\n",
    "\n",
    "plt.title(\"graph title\")\n",
    "\n",
    "plt.xlabel(\"x Axis\")\n",
    "plt.ylabel(\"y Axis\")\n",
    "\n",
    "# Set ticks only at the data points in x1 for the x-axis\n",
    "plt.xticks(x)\n",
    "\n",
    "plt.show()\n"
   ]
  },
  {
   "cell_type": "markdown",
   "id": "584af4a3",
   "metadata": {},
   "source": [
    "<div style=\"font-size: 50px;\n",
    " color: white;\n",
    "background-color: grey;\n",
    " padding: 40px;\n",
    "margin: 4px\">\n",
    "       .............. <br>\n",
    "\n",
    "</div>"
   ]
  },
  {
   "cell_type": "markdown",
   "id": "aba33aeb",
   "metadata": {},
   "source": [
    "#### 4. Write a Python program to plot two or more lines with different styles.\n"
   ]
  },
  {
   "cell_type": "code",
   "execution_count": null,
   "id": "91880276",
   "metadata": {},
   "outputs": [],
   "source": [
    "x=[10,15,20,25,30]\n",
    "\n",
    "\n",
    "# Define data for line 1\n",
    "x1 = [10, 20, 30]\n",
    "y1 = [20, 40, 10]\n",
    "\n",
    "# Define data for line 2\n",
    "x2 = [10, 20, 30]\n",
    "y2 = [40, 10, 30]\n",
    "\n",
    "plt.plot(x1,y1,linestyle = 'dotted',color=\"b\",label=\"line 1\")\n",
    "plt.plot(x2,y2,linestyle = 'dotted',linewidth=5,color=\"r\",label=\"line 2\")\n",
    "\n",
    "plt.legend()\n",
    "plt.title(\"graph title\")\n",
    "\n",
    "plt.xticks(x)\n",
    "\n"
   ]
  },
  {
   "cell_type": "markdown",
   "id": "dd15be5a",
   "metadata": {},
   "source": [
    "<div style=\"font-size: 50px;\n",
    " color: white;\n",
    "background-color: grey;\n",
    " padding: 40px;\n",
    "margin: 4px\">\n",
    "       .............. <br>\n",
    "\n",
    "</div>"
   ]
  },
  {
   "cell_type": "markdown",
   "id": "9f8b76de",
   "metadata": {},
   "source": [
    "#### 5. Write a Python program to plot two or more lines and set the line markers.\n"
   ]
  },
  {
   "cell_type": "code",
   "execution_count": null,
   "id": "ed66f81f",
   "metadata": {},
   "outputs": [],
   "source": [
    "x1=[1,2,3,4,5]\n",
    "y1=[1,4,9,16,25]\n",
    "\n",
    "\n",
    "\n",
    "plt.plot(x1, y1, marker='o', mfc='b',ms='10', color=\"r\",linestyle=\"-.\")  # 'o' marker for points\n"
   ]
  },
  {
   "cell_type": "markdown",
   "id": "513efc9f",
   "metadata": {},
   "source": [
    "<div style=\"font-size: 50px;\n",
    " color: white;\n",
    "background-color: grey;\n",
    " padding: 40px;\n",
    "margin: 4px\">\n",
    "       .............. <br>\n",
    "\n",
    "</div>"
   ]
  },
  {
   "attachments": {},
   "cell_type": "markdown",
   "id": "b88e93a7",
   "metadata": {},
   "source": [
    "#### 6. Write a Python programming to display a bar chart of the popularity of programming Languages.\n",
    "    Sample data:\n",
    "    Programming languages: Java, Python, PHP, JavaScript, C#, C++\n",
    "    Popularity: 22.2, 17.6, 8.8, 8, 7.7, 6.7\n",
    "\n"
   ]
  },
  {
   "cell_type": "code",
   "execution_count": null,
   "id": "1575db4b",
   "metadata": {},
   "outputs": [],
   "source": [
    "import matplotlib.pyplot as plt\n",
    "\n",
    "languages = [\"Java\", \"Python\", \"PHP\", \"JavaScript\", \"C#\", \"C++\"]\n",
    "popularity = [22.2, 17.6, 8.8, 8, 7.7, 6.7]\n",
    "\n",
    "# Plotting the bar chart\n",
    "plt.bar(languages, popularity)\n",
    "\n",
    "# Adding title and labels\n",
    "plt.title(\"Programming Language Popularity\")\n",
    "plt.xlabel(\"Programming Languages\")\n",
    "plt.ylabel(\"Popularity (%)\")\n",
    "\n",
    "\n",
    "# Display the plot\n",
    "plt.show()\n"
   ]
  },
  {
   "cell_type": "markdown",
   "id": "f53d1a69",
   "metadata": {},
   "source": [
    "<div style=\"font-size: 50px;\n",
    " color: white;\n",
    "background-color: grey;\n",
    " padding: 40px;\n",
    "margin: 4px\">\n",
    "       .............. <br>\n",
    "\n",
    "</div>"
   ]
  },
  {
   "attachments": {},
   "cell_type": "markdown",
   "id": "07da990d",
   "metadata": {},
   "source": [
    "#### 7. Write a Python programming to display a horizontal bar chart of the popularity of programming Languages.\n",
    "    Sample data:\n",
    "    Programming languages: Java, Python, PHP, JavaScript, C#, C++\n",
    "    Popularity: 22.2, 17.6, 8.8, 8, 7.7, 6.7\n",
    "  \n",
    "![image.png](attachment:image.png)"
   ]
  },
  {
   "cell_type": "code",
   "execution_count": null,
   "id": "5c343301",
   "metadata": {},
   "outputs": [],
   "source": [
    "languages=[\"Java\", \"Python\", \"PHP\", \"JavaScript\", \"C#\", \"C++\"]\n",
    "Popularity=[ 22.2, 17.6, 8.8, 8, 7.7, 6.7]\n",
    "\n",
    "\n",
    "plt.title(\"bar title\")\n",
    "\n",
    "plt.ylabel(\"Programming Languages\")\n",
    "\n",
    "plt.xlabel(\"Popularity (%)\")\n",
    "\n",
    "plt.barh(languages,Popularity)\n",
    "\n"
   ]
  },
  {
   "cell_type": "markdown",
   "id": "323820c6",
   "metadata": {},
   "source": [
    "<div style=\"font-size: 50px;\n",
    " color: white;\n",
    "background-color: grey;\n",
    " padding: 40px;\n",
    "margin: 4px\">\n",
    "       .............. <br>\n",
    "\n",
    "</div>"
   ]
  },
  {
   "attachments": {},
   "cell_type": "markdown",
   "id": "e85da420",
   "metadata": {},
   "source": [
    "#### 8. Write a Python program to create bar plot of scores by group and gender. Use multiple X values on the same chart for men and women.\n",
    "    Sample Data:\n",
    "    Means (men) = (22, 30, 35, 35, 26)\n",
    "    Means (women) = (25, 32, 30, 35, 29)\n",
    "![image.png](attachment:image.png)"
   ]
  },
  {
   "cell_type": "code",
   "execution_count": null,
   "id": "0d5c3599",
   "metadata": {},
   "outputs": [],
   "source": [
    "# Sample data\n",
    "means_men = [22, 30, 35, 35, 26]\n",
    "means_women = [25, 32, 30, 35, 29]\n",
    "groups = ['Group1', 'Group2', 'Group3', 'Group4', 'Group5']\n",
    "w = 0.4  # Width of the bars\n",
    "\n",
    "plt.style.use(\"classic\")\n",
    "\n",
    "# Positions of the bars on the x-axis\n",
    "indices = np.arange(len(means_men))\n",
    "# it is better to use np.arange because it make a list whic is  it more consistent, especially when performing element-wise operations\n",
    "#ex:\n",
    "#[[indices + w]] i can't do this directly without np.arrange i should first convert it to a list first \n",
    "\n",
    "plt.bar(indices, means_men, width=w, color=\"blue\", label=\"Men\")\n",
    "\n",
    "plt.bar(indices + w, means_women, width=w, color=\"orange\", label=\"Women\")\n",
    "\n",
    "plt.title('Scores by Group and Gender', fontsize=24)\n",
    "plt.xlabel('Groups', fontsize=20)\n",
    "plt.ylabel('Scores', fontsize=20)\n",
    "plt.xticks(indices + w / 2, groups)  # [[indices + w / 2]] --> Set the x-ticks to be in the center of the bars\n",
    "           #positions ---> #label\n",
    "\n",
    "plt.legend(loc=\"upper left\")\n",
    "\n",
    "plt.show()\n"
   ]
  },
  {
   "cell_type": "code",
   "execution_count": null,
   "id": "ef041383",
   "metadata": {},
   "outputs": [],
   "source": [
    "print(plt.style.available)\n"
   ]
  },
  {
   "cell_type": "markdown",
   "id": "35dffee2",
   "metadata": {},
   "source": [
    "<div style=\"font-size: 50px;\n",
    " color: white;\n",
    "background-color: grey;\n",
    " padding: 40px;\n",
    "margin: 4px\">\n",
    "       .............. <br>\n",
    "\n",
    "</div>"
   ]
  },
  {
   "attachments": {
    "image.png": {
     "image/png": "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"
    }
   },
   "cell_type": "markdown",
   "id": "ed476a32",
   "metadata": {},
   "source": [
    "#### 9. Write a Python programming to create a pie chart of the popularity of programming Languages.\n",
    "\n",
   ]
  },
  {
   "cell_type": "code",
   "execution_count": null,
   "id": "9320ac19",
   "metadata": {},
   "outputs": [],
   "source": [
    "import matplotlib.pyplot as plt\n",
    "\n",
    "# Data to plot\n",
    "labels = 'Java', 'Python', 'PHP', 'JavaScript', 'C#', 'C++'\n",
    "percentage = [31.3, 24.8, 12.4, 11.3, 10.8, 9.4]\n",
    "colors = ['blue', 'orange', 'green', 'red', 'purple', 'brown']\n",
    "explode = (0.1, 0, 0, 0, 0, 0)  # explode 1st slice\n",
    "\n",
    "# Plot\n",
    "plt.pie(percentage, explode=explode, labels=labels, colors=colors,\n",
    "autopct='%1.1f%%', shadow=True, startangle=140)\n",
    "\n",
    "#autopct='%1.1f%%' --> to tell him how to show the percentage (1--> means .1-->means f -->float)\n",
    "\n",
    "\n",
    "plt.axis('equal')  # Equal aspect ratio ensures that pie is drawn as a circle.\n",
    "plt.show()\n",
    "\n",
    "\n"
   ]
  },
  {
   "cell_type": "markdown",
   "id": "66d37f89",
   "metadata": {},
   "source": [
    "<div style=\"font-size: 50px;\n",
    " color: white;\n",
    "background-color: rgb(125, 131, 71);\n",
    " padding: 40px;\n",
    "margin: 4px\">\n",
    "<br>\n",
    "<br>\n",
    "<br>\n",
    "<br>\n",
    "<br>\n",
    "\n",
    "    \n",
    "    extra\n",
    "\n",
    "</div>"
   ]
  },
  {
   "cell_type": "code",
   "execution_count": null,
   "id": "9844e849",
   "metadata": {},
   "outputs": [],
   "source": [
    "df = pd.DataFrame.from_dict(\n",
    "    {\n",
    "        'Year': [2016, 2017, 2018, 2019, 2020, 2021],\n",
    "        'Men': [300, 320, 310, 305, 325, 330],\n",
    "        'Women': [350, 325, 300, 305, 380, 355],\n",
    "        'Total': [650,645, 610, 610, 705, 685]\n",
    "    }\n",
    ")\n",
    "\n",
    "'''mycolors=['grey',\"grey\",\"grey\",\"grey\",'red','grey']'''\n",
    "#or \n",
    "mycolors=['red' if (i == max(df['Total'])) else 'grey' for i in df['Total']]\n",
    "# it means\n",
    "\"\"\"\n",
    "mycolors = []\n",
    "for i in df['Total']:\n",
    "    if i == max(df['Total']):\n",
    "        mycolors.append('red')\n",
    "    else:\n",
    "        mycolors.append('grey')\n",
    "\"\"\"\n",
    "\n",
    "plt.bar(x=df['Year'], height=df['Total'],color=mycolors ,width = 0.3) # width = 0.5\n",
    "\n",
    "plt.title(\"bar title\",fontsize=20)\n",
    "\n",
    "plt.ylabel(\"SALES\")\n",
    "\n",
    "plt.xlabel(\"YEARS\")\n",
    "\n",
    "\n",
    "plt.show()"
   ]
  },
  {
   "cell_type": "code",
   "execution_count": null,
   "id": "14477f04",
   "metadata": {},
   "outputs": [],
   "source": [
    "w=0.4\n",
    "\n",
    "plt.style.use(\"ggplot\")\n",
    "\n",
    "# write men & women proportion\n",
    "df['Men Proportion'] = df['Men'] / df['Total'] * 100\n",
    "df['Women Proportion'] = df['Women'] / df['Total'] * 100\n",
    "\n",
    "plt.bar(x=df['Year'],height=df['Men Proportion'],width=w, color=\"blue\",label=\"Men\")\n",
    "plt.bar(x=df[\"Year\"]+w,height=df['Women Proportion'],width=w, color=\"orange\",label=\"Women\")\n",
    "\n",
    "\n",
    "\n",
    "plt.title('Sales over time', fontsize=18)\n",
    "plt.xlabel('Year', fontsize=12)\n",
    "plt.ylabel('Sales', fontsize=12)\n",
    "\n",
    "plt.legend(loc=\"upper center\")"
   ]
  },
  {
   "cell_type": "code",
   "execution_count": null,
   "id": "e7eac706",
   "metadata": {},
   "outputs": [],
   "source": []
  }
 ],
 "metadata": {
  "kernelspec": {
   "display_name": "Python 3 (ipykernel)",
   "language": "python",
   "name": "python3"
  },
  "language_info": {
   "codemirror_mode": {
    "name": "ipython",
    "version": 3
   },
   "file_extension": ".py",
   "mimetype": "text/x-python",
   "name": "python",
   "nbconvert_exporter": "python",
   "pygments_lexer": "ipython3",
   "version": "3.12.3"
  }
 },
 "nbformat": 4,
 "nbformat_minor": 5
}
